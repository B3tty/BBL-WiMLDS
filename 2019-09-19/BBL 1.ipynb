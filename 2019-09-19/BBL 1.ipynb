{
 "cells": [
  {
   "cell_type": "markdown",
   "metadata": {
    "slideshow": {
     "slide_type": "slide"
    }
   },
   "source": [
    "# BBL #1\n",
    "\n",
    "## [Learning Embeddings for Product Size Recommendations](https://bit.ly/2Z88rff)\n"
   ]
  },
  {
   "cell_type": "markdown",
   "metadata": {
    "slideshow": {
     "slide_type": "skip"
    }
   },
   "source": [
    "## Size recommendations\n",
    "\n",
    "### State of the Art\n",
    "\n",
    "\n",
    "* 8: Zalando, Romain Guigourès, Yuen King Ho, Evgenii Koriagin, Abdul-Saboor Sheikh, Urs Bergmann, and Reza Shirvany. 2018. [A Hierarchical Bayesian Model for Size Recommendation in Fashion](https://rguigoures.github.io/pdf/hierarchical-bayesian-model_final.pdf)\n",
    "\n",
    "* 13 Rishabh Misra, Mengting Wan, and Julian McAuley. 2018. [Decomposing Fit Semantics for Product Size Recommendation in Metric Spaces](https://cseweb.ucsd.edu/~jmcauley/pdfs/recsys18e.pdf)\n",
    "  * learns a latent space for customers and products by applying ordinal regression.\n",
    "  * A fitness score is computed for each purchase and size ordering is enforced based on customer’s feedback on the purchased size (i.e. too small, too big or a good fit). In order to handle class imbalances, metric learning techniques are applied to transform data into a space where purchases of the same class are closer and purchases of different classes are separated by a margin\n",
    "\n",
    "* 18 Vivek Sembium, Rajeev Rastogi, Atul Saroop, and Srujana Merugu. 2017. [Recommending Product Sizes to Customers](https://cseweb.ucsd.edu/classes/fa17/cse291-b/reading/p243-sembium.pdf)\n",
    "  * Ordinal regression problem\n",
    "  * customer and product true sizes are learned by taking their differences and feeding them into a linear model\n",
    "  * propose a solution for determining if an article of a certain size would be fit, large, or small for a certain customer, using the purchase history.\n",
    "  * This is achieved by iteratively deducing the true sizes for customers and products, fitting a linear function based on the difference in sizes, and performing ordinal regression on the output of the function to get the loss.\n",
    "  * Extra features are simply included by addition to the linear function.\n",
    "\n",
    "* 19 Vivek Sembium, Rajeev Rastogi, Lavanya Tekumalla, and Atul Saroop. 2018. [Bayesian Models for Product Size Recommendations](http://delivery.acm.org/10.1145/3190000/3186149/p679-sembium.pdf)\n",
    "  * extends the work of [18] with a Bayesian logit and probit regression model with ordinal categories\n",
    "  * The posterior distribution over customer and product true sizes is based on mean-field variational inference with Polya-Gammma augmentation.\n",
    "  \n",
    "The Bayesian approach allows the use of priors for handling data sparsity and the computation of confidence intervals for dealing with noisy data. Both and generate ordinal categorical variables based on explicit customer feedback on returned items (e.g. too small, too big or no return).\n",
    "\n",
    "---\n",
    "\n",
    "* 4 [Size Recommendation System for Fashion E-Commerce](https://kddfashion2017.mybluemix.net/final_submissions/ML4Fashion_paper_8.pdf) \n",
    "  * learns latent product features using Word2Vec and feeds them into a Gradient Boosting classifier along with additional product features (e.g physical measurements, colour, etc.).\n",
    "  * However, additional product features are often difficult to obtain\n",
    "\n",
    "* 20 Shreya Singh, G. Mohammed Abdulla, Sumit Borar, and Sagar Arora. 2018. [Footwear Size Recommendation System](https://arxiv.org/pdf/1806.11423.pdf)\n",
    "  * extends 4 to the specific case of footwear size recommendations and also proposes a probabilistic graphical approach that exploits brand similarities.\n"
   ]
  },
  {
   "cell_type": "markdown",
   "metadata": {
    "slideshow": {
     "slide_type": "slide"
    }
   },
   "source": [
    "## Size Recommendations\n",
    "\n",
    "\n",
    "### Zalando\n",
    "\n",
    "[A Hierarchical Bayesian Model for Size Recommendation in Fashion](https://rguigoures.github.io/pdf/hierarchical-bayesian-model_final.pdf)\n",
    "\n",
    "* Represent articles as a combination of brand, usage, size, and fit\n",
    "* A neural network is then trained to learn a latent vector describing each article defined as the combination of features mentioned before\n",
    "* Customer vector representation is obtained by aggregating over purchased articles\n",
    "* Finally, a gradient boosted classifier predicts the fit of an article to a customer: it learns the joint probability of a customer purchasing a given product size and the resulting return status being either too small, too big or no return"
   ]
  },
  {
   "cell_type": "markdown",
   "metadata": {
    "slideshow": {
     "slide_type": "slide"
    }
   },
   "source": [
    "## Size recommendations\n",
    "\n",
    "### Asos Approach\n",
    "\n",
    "**_Neural Collaborative Filtering approach_**\n",
    "\n",
    "Collaborative filtering uses customer-product interactions and is based on the assumption that customers buying similar products have similar tastes. This principle naturally translates into the size and fit domain as \"customers with similar body shapes tend to buy clothes in similar sizes\".\n",
    "\n",
    "* learn a latent space at a product size level instead of at a product level i.e. we have a different vector for every possible size of a product\n",
    "* asymmetric framework so that users are not represented explicitly, but as the aggregate of the product vectors with which they have interacted\n",
    "* train different models for each product category (tops, bottoms or shoes), so all trained embeddings belong to the same category and the learned latent space represents the same body part\n",
    "\n"
   ]
  },
  {
   "cell_type": "markdown",
   "metadata": {
    "slideshow": {
     "slide_type": "slide"
    }
   },
   "source": [
    "## Size recommendations\n",
    "\n",
    "### Asos Approach\n",
    "\n",
    "__*Transfer from Brand to Product*__\n",
    "\n",
    "Model of product-size combinations instead of just products => product-size interaction matrix ~10 times sparser than for product recommendations\n",
    "\n",
    "* Assume that each brand has consistent sizes\n",
    "* Learn latent representations _V<sub>b<sub>s</sub></sub>_ for every combination of brand *b* and size _s_\n",
    "* Transfer this to a product level: V<sub>p<sub>s</sub></sub> = V<sub>b<sub>s</sub></sub>, ∀p<sub>s</sub> ∈ b<sub>s</sub>\n",
    "\n",
    "Impacts\n",
    "* Improves generalisation\n",
    "* Boosts performance\n",
    "* Leads to faster convergence\n",
    "\n"
   ]
  },
  {
   "cell_type": "markdown",
   "metadata": {
    "slideshow": {
     "slide_type": "slide"
    }
   },
   "source": [
    "## Multiple Personas detection\n",
    "\n",
    "_Goal: Reduce noise in recommendations_\n",
    "\n",
    "### State of the Art\n",
    "\n",
    "* Explicitly use different user profiles (Netflix)\n",
    "* Use of empirically determined thresholds on the range of purchased sizes\n",
    "* Statistical models\n",
    "* Filter out users where the mean and std deviation of the purchased sizes exceeds a category level threshold\n",
    "* Hierarchical clustering method where clusters are iteratively merged as long as the std deviation does not exceed an empirical threshold\n",
    "* Persona distribution learned from a dirichlet distribution\n",
    "* Gaussian kernel density estimation approach refined to a gaussian mixture model\n",
    "\n"
   ]
  },
  {
   "cell_type": "markdown",
   "metadata": {
    "slideshow": {
     "slide_type": "slide"
    }
   },
   "source": [
    "## Multiple Personas detection\n",
    "\n",
    "### Asos approach\n",
    "\n",
    "* Gaussian Mixture Model\n",
    "* Assumes that one user is centred around __one__ core size\n",
    "* Each persona is represented by a Gaussian distribution, whose mean µ corresponds to the persona’s core size"
   ]
  },
  {
   "cell_type": "markdown",
   "metadata": {
    "slideshow": {
     "slide_type": "slide"
    }
   },
   "source": [
    "## Multiple Personas detection\n",
    "\n",
    "### Asos approach\n",
    "\n"
   ]
  }
 ],
 "metadata": {
  "celltoolbar": "Diaporama",
  "kernelspec": {
   "display_name": "Python 3",
   "language": "python",
   "name": "python3"
  },
  "language_info": {
   "codemirror_mode": {
    "name": "ipython",
    "version": 3
   },
   "file_extension": ".py",
   "mimetype": "text/x-python",
   "name": "python",
   "nbconvert_exporter": "python",
   "pygments_lexer": "ipython3",
   "version": "3.7.3"
  }
 },
 "nbformat": 4,
 "nbformat_minor": 2
}
