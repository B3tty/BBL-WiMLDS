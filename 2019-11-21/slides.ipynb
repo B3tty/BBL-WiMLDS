{
 "cells": [
  {
   "cell_type": "markdown",
   "metadata": {
    "slideshow": {
     "slide_type": "slide"
    }
   },
   "source": [
    "# [Uncovering Bias in Ad Feedback Data Analyses & Applications](https://labtomarket.files.wordpress.com/2019/03/adfeedback.pdf)"
   ]
  },
  {
   "cell_type": "markdown",
   "metadata": {
    "slideshow": {
     "slide_type": "slide"
    }
   },
   "source": [
    "## Context\n",
    "\n",
    "- Trying to provide a rewarding investment to advertisers\n",
    "- Minimize negative impact to users\n",
    "\n",
    "`Annoying ads have a real cost to users beyond mere annoyance`: reduced visits of shorter duration, fewer referrals, long-term user disengagement...\n",
    "\n",
    "It has been shown that it is better to not show any ads than to show non relevant ones.\n",
    "\n",
    "=> Using explicit feedback from users can help capture all these effects and once integrated directly into the ad ranking score allows ads to be ranked interms of bit _short term_ and _long term_ expected revenue.\n",
    "\n",
    "Bias can come from\n",
    "* the fact that ads are targeted\n",
    "* the type of users (interacting a lot or not with content)"
   ]
  },
  {
   "cell_type": "markdown",
   "metadata": {
    "slideshow": {
     "slide_type": "slide"
    }
   },
   "source": [
    "## 1. Analysis\n",
    "## 2. Bias: explanation and correction\n",
    "## 3. "
   ]
  },
  {
   "cell_type": "markdown",
   "metadata": {
    "slideshow": {
     "slide_type": "slide"
    }
   },
   "source": [
    "## 1. Analysis"
   ]
  },
  {
   "cell_type": "markdown",
   "metadata": {
    "slideshow": {
     "slide_type": "slide"
    }
   },
   "source": [
    "## Analysis\n",
    "\n",
    "⇨ Investigate if the association between ads and ad feedback is affected by\n",
    "* ads being targeted to users with particular demographics, interests, behaviours\n",
    "* user behaviour (eg clicks, interaction with content)\n",
    "\n",
    "Users may dislike ads but not indicate this through a feedback option whereas others may always give feedback, however minro the complaint."
   ]
  },
  {
   "cell_type": "markdown",
   "metadata": {
    "slideshow": {
     "slide_type": "slide"
    }
   },
   "source": [
    "## Analysis\n",
    "\n",
    "### Data\n",
    "\n",
    "40 million distinct users and 200 000 distinct ads"
   ]
  },
  {
   "cell_type": "markdown",
   "metadata": {
    "slideshow": {
     "slide_type": "fragment"
    }
   },
   "source": [
    "\n",
    "\n",
    "### Metric\n",
    "\n",
    "$$ Hide Rate = \\frac{hides}{impressions} $$\n",
    "\n",
    "* feedback is generally a signal of bad quality: explicit negative signal\n",
    "* CTR: the absence of click does not necessarily indicate a low quality ad, high CTR may not mean high quality"
   ]
  },
  {
   "cell_type": "markdown",
   "metadata": {
    "slideshow": {
     "slide_type": "fragment"
    }
   },
   "source": [
    "### Features - to characterize users\n",
    "\n",
    "* User demographics: age, gender, interests, location\n",
    "* User behaviour: ad impressions, ad clicks, article clicks"
   ]
  },
  {
   "cell_type": "markdown",
   "metadata": {
    "slideshow": {
     "slide_type": "fragment"
    }
   },
   "source": [
    "### Features - to characterize ads\n",
    "\n",
    "* Text-based: spam, readability, adult\n",
    "* Image-based: contains text, contains flesh\n",
    "* Advertiser: pagerank score of the ad landing page"
   ]
  },
  {
   "cell_type": "markdown",
   "metadata": {
    "slideshow": {
     "slide_type": "slide"
    }
   },
   "source": [
    "## Analysis\n",
    "\n",
    "* Study the difference of ad hide behaviour for each user variable in turn\n",
    "\n",
    "$$ HR_{var}(u) = \\frac{HR(u) - mean(HR(U))}{mean(Hr(U))}$$"
   ]
  },
  {
   "cell_type": "markdown",
   "metadata": {
    "slideshow": {
     "slide_type": "fragment"
    }
   },
   "source": [
    "### Results\n",
    "\n",
    "* User demographics\n",
    "  * users from different states have different behaviours\n",
    "  * demographic distribitions differ per state\n",
    "  * female users are less likely to hide than male users\n",
    "\n",
    "* User interests\n",
    "  * \"Retail\" and \"Technology\" most likely to hide\n",
    "  * \"Business/B2B\" and \"Telecommunication\" less likely to hide\n",
    "  * __feedback variations accross these variables make them good candidates to indentify bias due to targeting__\n",
    "\n",
    "* Ad quality\n",
    "  * more likely to be spam: more likely to be hidden\n",
    "  * easier to read: more likely to be hidden\n",
    "  * most and least \"adultness\": less likely to be hidden"
   ]
  },
  {
   "cell_type": "markdown",
   "metadata": {
    "slideshow": {
     "slide_type": "slide"
    }
   },
   "source": [
    "## Analysis\n",
    "\n",
    "### Conclusion\n",
    "\n",
    "* Some types of users that provide feedback may be more sensitve to ads and have a higher tendency to provide feedback\n",
    "* Since ads are targeted, the ad feedback may be from a group unrepresentative of the general population"
   ]
  },
  {
   "cell_type": "markdown",
   "metadata": {
    "slideshow": {
     "slide_type": "slide"
    }
   },
   "source": [
    "## 2. Bias"
   ]
  },
  {
   "cell_type": "markdown",
   "metadata": {
    "slideshow": {
     "slide_type": "slide"
    }
   },
   "source": [
    "## Modelling Bias\n",
    "\n",
    "An ad quality model based on such biased data wil consistently over or under estimate the quality of ads.\n",
    "\n",
    "⇨ develop a model able to determine the proportion of bias present in the feedback on ads.\n",
    "\n"
   ]
  },
  {
   "cell_type": "markdown",
   "metadata": {
    "slideshow": {
     "slide_type": "fragment"
    }
   },
   "source": [
    "* Descriptive model\n",
    "* Only include variables able to explain the source of selection bias\n"
   ]
  },
  {
   "cell_type": "markdown",
   "metadata": {
    "slideshow": {
     "slide_type": "slide"
    }
   },
   "source": [
    "## Modelling Bias\n",
    "\n",
    "Simple logistic regression based ad-user model\n",
    "* one ad feature _a_\n",
    "* one user selection feature _u_\n",
    "* associated weights\n",
    "\n",
    "$$ f(\\hat{p}) = w_0 + w_a . a + w_u . u + \\epsilon  $$\n",
    "\n",
    "* only with one ad feature _a_\n",
    "\n",
    "$$ f(\\hat{p}) = \\hat{w}_0 + \\hat{w}_a . a + \\epsilon  $$\n",
    "\n",
    "* If both models are fit to the feedback data with the selection bias then the bias in the coefficient of the ad model is\n",
    "\n",
    "$$ \\hat{w}_a = w_a + \\rho w_u $$\n",
    "\n",
    "* $\\rho$ is the correlation between _a_ and *u*\n",
    "* The bias in the ad only model is the true user bias proportional to the correlation between the user and the ad feature\n",
    "\n",
    "⇨ Goal is to identify user selection bias term $ w_u . u $\n",
    "\n"
   ]
  },
  {
   "cell_type": "markdown",
   "metadata": {
    "slideshow": {
     "slide_type": "fragment"
    }
   },
   "source": [
    "## Modelling Bias"
   ]
  },
  {
   "cell_type": "markdown",
   "metadata": {
    "slideshow": {
     "slide_type": "fragment"
    }
   },
   "source": [
    "## Model that corrects bias\n",
    "\n",
    "use this model to develop an ad quality model based on ad feedback data corrected for bias.\n",
    "\n",
    "Model that corrects for the bias in ad feedback data to produce ad quality scores"
   ]
  },
  {
   "cell_type": "markdown",
   "metadata": {
    "slideshow": {
     "slide_type": "slide"
    }
   },
   "source": [
    "## \n",
    "\n",
    "Technique that provides explicit control over the revenue impact when incorporating ad quality scores in the ad ranking mechanism"
   ]
  },
  {
   "cell_type": "markdown",
   "metadata": {
    "slideshow": {
     "slide_type": "slide"
    }
   },
   "source": [
    "## Model comparison\n",
    "\n",
    "compare two models, that provide biased and bias corrected feedback estimates, to investigate the value of correcting for bias in ad feedback data."
   ]
  },
  {
   "cell_type": "markdown",
   "metadata": {
    "slideshow": {
     "slide_type": "slide"
    }
   },
   "source": []
  }
 ],
 "metadata": {
  "celltoolbar": "Diaporama",
  "kernelspec": {
   "display_name": "Python 3",
   "language": "python",
   "name": "python3"
  },
  "language_info": {
   "codemirror_mode": {
    "name": "ipython",
    "version": 3
   },
   "file_extension": ".py",
   "mimetype": "text/x-python",
   "name": "python",
   "nbconvert_exporter": "python",
   "pygments_lexer": "ipython3",
   "version": "3.7.3"
  },
  "latex_envs": {
   "LaTeX_envs_menu_present": true,
   "autoclose": false,
   "autocomplete": true,
   "bibliofile": "biblio.bib",
   "cite_by": "apalike",
   "current_citInitial": 1,
   "eqLabelWithNumbers": true,
   "eqNumInitial": 1,
   "hotkeys": {
    "equation": "Ctrl-E",
    "itemize": "Ctrl-I"
   },
   "labels_anchors": false,
   "latex_user_defs": false,
   "report_style_numbering": false,
   "user_envs_cfg": false
  }
 },
 "nbformat": 4,
 "nbformat_minor": 2
}
