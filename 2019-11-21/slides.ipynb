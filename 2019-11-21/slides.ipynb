{
 "cells": [
  {
   "cell_type": "markdown",
   "metadata": {
    "slideshow": {
     "slide_type": "slide"
    }
   },
   "source": [
    "# [Uncovering Bias in Ad Feedback Data Analyses & Applications](https://labtomarket.files.wordpress.com/2019/03/adfeedback.pdf)"
   ]
  },
  {
   "cell_type": "markdown",
   "metadata": {
    "slideshow": {
     "slide_type": "slide"
    }
   },
   "source": [
    "## Context\n",
    "\n",
    "- Trying to provide a rewarding investment to advertisers\n",
    "- Minimize negative impact to users\n",
    "\n",
    "`Annoying ads have a real cost to users beyond mere annoyance`: reduced visits of shorter duration, fewer referrals, long-term user disengagement...\n",
    "\n",
    "It has been shown that it is better to not show any ads than to show non relevant ones.\n",
    "\n",
    "=> Using explicit feedback from users can help capture all these effects and once integrated directly into the ad ranking score allows ads to be ranked interms of bit _short term_ and _long term_ expected revenue.\n",
    "\n",
    "Bias can come from\n",
    "* the fact that ads are targeted\n",
    "* the type of users (interacting a lot or not with content)"
   ]
  },
  {
   "cell_type": "markdown",
   "metadata": {
    "slideshow": {
     "slide_type": "slide"
    }
   },
   "source": [
    "## 1. Analysis\n",
    "## 2. Bias: explanation and correction\n",
    "## 3. "
   ]
  },
  {
   "cell_type": "markdown",
   "metadata": {},
   "source": [
    "## 1. Analysis"
   ]
  },
  {
   "cell_type": "markdown",
   "metadata": {
    "slideshow": {
     "slide_type": "slide"
    }
   },
   "source": [
    "## Analysis\n",
    "\n",
    "=> Investigate if the association between ads and ad feedback is affected by\n",
    "* ads being targeted to users with particular demographics, interests, behaviours\n",
    "* user behaviour (eg clicks, interaction with content)\n",
    "\n",
    "Users may dislike ads but not indicate this through a feedback option whereas others may always give feedback, however minro the complaint."
   ]
  },
  {
   "cell_type": "markdown",
   "metadata": {
    "slideshow": {
     "slide_type": "slide"
    }
   },
   "source": [
    "## Analysis\n",
    "\n",
    "### Data\n",
    "\n",
    "40 million distinct users and 200 000 distinct ads\n",
    "\n",
    "### Metric\n",
    "\n",
    "Hide Rate = hides / impressions\n",
    "\n",
    "* feedback is generally a signal of bad quality: explicit negative signal\n",
    "* the absence of click does not necessarily indicate a low quality ad\n",
    "* high CTR may not mean high quality"
   ]
  },
  {
   "cell_type": "markdown",
   "metadata": {
    "slideshow": {
     "slide_type": "slide"
    }
   },
   "source": [
    "## Where is the bias?"
   ]
  },
  {
   "cell_type": "markdown",
   "metadata": {
    "slideshow": {
     "slide_type": "slide"
    }
   },
   "source": [
    "## Model that corrects bias\n",
    "\n",
    "Model that corrects for the bias in ad feedback data to produce ad quality scores"
   ]
  },
  {
   "cell_type": "markdown",
   "metadata": {
    "slideshow": {
     "slide_type": "slide"
    }
   },
   "source": [
    "## \n",
    "\n",
    "Technique that provides explicit control over the revenue impact when incorporating ad quality scores in the ad ranking mechanism"
   ]
  },
  {
   "cell_type": "markdown",
   "metadata": {
    "slideshow": {
     "slide_type": "slide"
    }
   },
   "source": [
    "## Model comparison\n",
    "\n",
    "compare two models, that provide biased and bias corrected feedback estimates, to investigate the value of correcting for bias in ad feedback data."
   ]
  },
  {
   "cell_type": "markdown",
   "metadata": {
    "slideshow": {
     "slide_type": "slide"
    }
   },
   "source": []
  }
 ],
 "metadata": {
  "celltoolbar": "Diaporama",
  "kernelspec": {
   "display_name": "Python 3",
   "language": "python",
   "name": "python3"
  },
  "language_info": {
   "codemirror_mode": {
    "name": "ipython",
    "version": 3
   },
   "file_extension": ".py",
   "mimetype": "text/x-python",
   "name": "python",
   "nbconvert_exporter": "python",
   "pygments_lexer": "ipython3",
   "version": "3.7.3"
  },
  "latex_envs": {
   "LaTeX_envs_menu_present": true,
   "autoclose": false,
   "autocomplete": true,
   "bibliofile": "biblio.bib",
   "cite_by": "apalike",
   "current_citInitial": 1,
   "eqLabelWithNumbers": true,
   "eqNumInitial": 1,
   "hotkeys": {
    "equation": "Ctrl-E",
    "itemize": "Ctrl-I"
   },
   "labels_anchors": false,
   "latex_user_defs": false,
   "report_style_numbering": false,
   "user_envs_cfg": false
  }
 },
 "nbformat": 4,
 "nbformat_minor": 2
}
